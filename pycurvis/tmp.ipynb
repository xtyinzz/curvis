{
 "cells": [
  {
   "cell_type": "code",
   "execution_count": 1,
   "metadata": {},
   "outputs": [],
   "source": [
    "import numpy as np\n",
    "import scipy"
   ]
  },
  {
   "cell_type": "code",
   "execution_count": 15,
   "metadata": {},
   "outputs": [],
   "source": [
    "def sph2car(r, theta, phi):\n",
    "  x = r*np.cos(phi)*np.sin(theta)\n",
    "  y = r*np.sin(phi)*np.sin(theta)\n",
    "  z = r*np.cos(theta)\n",
    "  return x,y,z\n",
    "\n",
    "def car2sph(x, y, z):\n",
    "  assert x != 0 or y != 0\n",
    "  r = np.sqrt(x*x + y*y + z*z)\n",
    "  theta = np.arccos(z/r)\n",
    "\n",
    "  \n",
    "  if x > 0:\n",
    "    phi = np.arctan(y/x)\n",
    "  elif x < 0 and y >= 0:\n",
    "    phi = np.arctan(y/x)+np.pi\n",
    "  elif x < 0 and y < 0:\n",
    "    phi == np.arctan(y/x)-np.pi\n",
    "  elif x == 0 and y > 0:\n",
    "    phi = np.pi/2\n",
    "  elif x == 0 and y < 0:\n",
    "    phi = -np.pi/2\n",
    "\n",
    "  return r,theta,phi\n",
    "\n",
    "  "
   ]
  },
  {
   "cell_type": "code",
   "execution_count": 20,
   "metadata": {},
   "outputs": [
    {
     "data": {
      "text/plain": [
       "(1.7320508075688772, 0.9553166181245092, 0.7853981633974483)"
      ]
     },
     "execution_count": 20,
     "metadata": {},
     "output_type": "execute_result"
    }
   ],
   "source": [
    "car2sph(1, -1, 1)"
   ]
  },
  {
   "cell_type": "code",
   "execution_count": 21,
   "metadata": {},
   "outputs": [
    {
     "data": {
      "text/plain": [
       "-0.7853981633974483"
      ]
     },
     "execution_count": 21,
     "metadata": {},
     "output_type": "execute_result"
    }
   ],
   "source": [
    "np.arctan(-1)"
   ]
  },
  {
   "cell_type": "code",
   "execution_count": 14,
   "metadata": {},
   "outputs": [
    {
     "data": {
      "text/plain": [
       "1.5707963267948966"
      ]
     },
     "execution_count": 14,
     "metadata": {},
     "output_type": "execute_result"
    }
   ],
   "source": [
    "np.pi/2"
   ]
  }
 ],
 "metadata": {
  "interpreter": {
   "hash": "b43128b8149febc113f839bcab30702eb99c8d3a604df05727c78f54e33a9fbd"
  },
  "kernelspec": {
   "display_name": "Python 3.7.6 ('ml37')",
   "language": "python",
   "name": "python3"
  },
  "language_info": {
   "codemirror_mode": {
    "name": "ipython",
    "version": 3
   },
   "file_extension": ".py",
   "mimetype": "text/x-python",
   "name": "python",
   "nbconvert_exporter": "python",
   "pygments_lexer": "ipython3",
   "version": "3.7.6"
  },
  "orig_nbformat": 4
 },
 "nbformat": 4,
 "nbformat_minor": 2
}
